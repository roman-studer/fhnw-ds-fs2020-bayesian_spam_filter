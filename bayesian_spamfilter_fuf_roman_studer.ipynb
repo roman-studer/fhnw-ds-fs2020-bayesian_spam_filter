{
 "cells": [
  {
   "cell_type": "markdown",
   "metadata": {},
   "source": [
    "# FS20 Fill-Up Question wer/Wahrscheinlichkeitsrechnen (probability calculation)\n",
    "How to create a spamfilter using bayes' theorem\n",
    "----\n",
    "\n",
    "\n",
    "Author: Roman Studer, roman.studer1@students.fhnw.ch"
   ]
  },
  {
   "cell_type": "markdown",
   "metadata": {},
   "source": [
    "<img src=\"./data/bayes.jpg\"\n",
    "     alt=\"A blue neon sign showing the simple statement of Bayes’ theorem at the offices of HP Autonomy\"/>\n",
    "[Image source](https://en.wikipedia.org/wiki/Bayes%27_theorem#/media/File:Bayes'_Theorem_MMB_01.jpg)"
   ]
  },
  {
   "cell_type": "markdown",
   "metadata": {},
   "source": [
    "----\n",
    "# Introduction\n",
    "> In probability theory and statistics, Bayes' theorem (alternatively Bayes' law or Bayes' rule) describes the probability of an event, based on prior knowledge of conditions that might be related to the event. [Wikipedia](https://en.wikipedia.org/wiki/Bayes%27_theorem)\n",
    "\n",
    "This Notebook is dedicated to the exploration of the Bayes' theorem through the creation of a spam filter. Bayes' theorem has many applications. For example, in statistics, bioinformatics, quality management or the filtering of e-mails. The basic idea of Bayes' theorem is that the probability of the occurrence of an event (under the condition that another event has taken place) can be calculated. The keyword is conditional probability."
   ]
  },
  {
   "cell_type": "code",
   "execution_count": 29,
   "metadata": {},
   "outputs": [],
   "source": [
    "# imports\n",
    "import pandas as pd\n",
    "import numpy as np\n",
    "from sklearn.model_selection import train_test_split\n",
    "from sklearn.metrics import confusion_matrix\n",
    "import seaborn as sns\n",
    "import matplotlib.pyplot as plt    \n",
    "import itertools\n",
    "import operator\n",
    "pd.options.mode.chained_assignment = None"
   ]
  },
  {
   "cell_type": "markdown",
   "metadata": {},
   "source": [
    "## Bayes' theorem explained\n",
    "The basic formula: \n",
    "$$\n",
    "P(A \\vert B) = \\frac{P(B \\vert A)P(A)}{P(B)}\n",
    "$$\n",
    "- $P(A \\vert B)$ is the posterior belief or the probability of getting A given B, a conditional probability\n",
    "- $P(B \\vert A)$ is the likelihood or the probability of getting class B given A\n",
    "- $P(A)$ and $P(B)$ are prior beliefs. $P(B)$ acts as constant to normalize the result. $P(B)$ (the denominator) is also called evidence."
   ]
  },
  {
   "cell_type": "markdown",
   "metadata": {},
   "source": [
    "## Task definition\n",
    "**Spam detection using a Bayesian filter.**\n",
    ">Naive Bayes classifiers are a popular statistical technique of e-mail filtering. They typically use bag of words features to identify spam e-mail, an approach commonly used in text classification.\n",
    "[(taken from wikipedia)](https://en.wikipedia.org/wiki/Naive_Bayes_spam_filtering)\n",
    "\n",
    "The goal is to create a filter that flags spam e-mail in a test set reasonably well. Optimization and decision making isn't the target of this exercise and won't be taken into consideration that much."
   ]
  },
  {
   "cell_type": "markdown",
   "metadata": {},
   "source": [
    "## Dataset\n",
    "Dataset with labeled spam emails as well as harmless emails which allows a train/test split.  \n",
    "Example: https://archive.ics.uci.edu/ml/datasets/Spambase  \n",
    "\n",
    "The Dataset has 5728 E-Mails and two columns:\n",
    "- column 'text', string containing the content of an e-mail\n",
    "- column 'spam', int (binary) which classifies an e-mail as spam (1) or ham (0)"
   ]
  },
  {
   "cell_type": "code",
   "execution_count": 2,
   "metadata": {},
   "outputs": [
    {
     "name": "stdout",
     "output_type": "stream",
     "text": [
      "<class 'pandas.core.frame.DataFrame'>\n",
      "RangeIndex: 5728 entries, 0 to 5727\n",
      "Data columns (total 2 columns):\n",
      " #   Column  Non-Null Count  Dtype \n",
      "---  ------  --------------  ----- \n",
      " 0   text    5728 non-null   object\n",
      " 1   spam    5728 non-null   int64 \n",
      "dtypes: int64(1), object(1)\n",
      "memory usage: 89.6+ KB\n"
     ]
    }
   ],
   "source": [
    "# read dataset\n",
    "data = pd.read_csv('data/emails.csv')\n",
    "data.info()"
   ]
  },
  {
   "cell_type": "code",
   "execution_count": 3,
   "metadata": {},
   "outputs": [
    {
     "data": {
      "text/plain": [
       "'Subject: unbelievable new homes made easy  im wanting to show you this  homeowner  you have been pre - approved for a $ 454 , 169 home loan at a 3 . 72 fixed rate .  this offer is being extended to you unconditionally and your credit is in no way a factor .  to take advantage of this limited time opportunity  all we ask is that you visit our website and complete  the 1 minute post approval form  look foward to hearing from you ,  dorcas pittman'"
      ]
     },
     "execution_count": 3,
     "metadata": {},
     "output_type": "execute_result"
    }
   ],
   "source": [
    "data.iloc[2][0] # spam e-mail example"
   ]
  },
  {
   "cell_type": "markdown",
   "metadata": {},
   "source": [
    "## Delivery\n",
    "The following deliverables have been defined and will be included in the submitted work:\n",
    "- An adaptive spam classifier adapted to the dataset in a Jupyter notebook  \n",
    "- Including code documentation. \n",
    "----"
   ]
  },
  {
   "cell_type": "markdown",
   "metadata": {},
   "source": [
    "# Definition of a naive bayes classifier "
   ]
  },
  {
   "cell_type": "markdown",
   "metadata": {},
   "source": [
    "## Description\n",
    "The probability that an email is a spam message if a word $w$ occurs is defined by the probability that word $w$ is in a spam message $s$ multiplied by the general probability that the email is a spam message $s$. This gets divided by the probability of that word occurring  in an e-mail (spam and ham combined).\n",
    "\n",
    "$$\n",
    "P(s \\vert w) = \\frac{P(w \\vert s)P(s)}{P(w \\vert s\\cup h)}\n",
    "$$\n",
    "\n",
    "To decide if an email is spam, we need to get a single probability $p$ for the whole email and not just for the single words ($p_1$ to $p_n$). Because the spam filter uses a bayesian approach we can achieve this by multiplying the probabilities for every word together and dividing by the combined probability of every word for being in a spam message plus the combined probability of every word for _not_ being in a spam message. The formula to achieve this looks as follows: \n",
    "\n",
    "$$\n",
    "P = \\frac{p_1 p_2 ... p_n}{p_1 p_2 ... p_n + (1- p_1)(1-p_2)...(1-p_n)}\n",
    "$$\n",
    "\n",
    "Now that we have the probability of an e-mail being spam we need to _decide_ if the e-mail is a spam message or not. This falls into decision theory and is not part of this work. Nevertheless, we want a functional classifier. With the help of a rudimentary parameter search we can define a limit value. If the spamminess of an email is higher than that threshold value, it is classified as spam and gets the value 1 (spam). Below this value it is a harmless e-mail and receives the value 0 (ham)."
   ]
  },
  {
   "cell_type": "markdown",
   "metadata": {},
   "source": [
    "## Procedure\n",
    "To create a functioning spam filter we need to do the following steps:\n",
    "1. Filter filler words and special characters out of e-mail\n",
    "2. Split data into test and train set\n",
    "3. Calculate the total probability of an e-mail being spam or ham ($P(s)$ and $P(\\lnot s)$)\n",
    "4. Calculate the conditional probability of a word occurring in a spam ($P(w \\vert s)$)\n",
    "5. Calculate the total probability of $P$ (spamminess) for every email in the train set.\n",
    "6. Search for best threshold\n",
    "7. Test on test set\n",
    "8. Evaluate results"
   ]
  },
  {
   "cell_type": "markdown",
   "metadata": {},
   "source": [
    "----\n",
    "# Building a naive bayes spam classifier \n",
    "This chapter goes trough the predefined steps to create a spam filter.\n"
   ]
  },
  {
   "cell_type": "markdown",
   "metadata": {},
   "source": [
    "## Removal of filler words and special characters\n",
    "Many words don't carry any meaning for a spam filter. These words are considered as filler words and may be useful if you want to consider the context of an e-mail. But because Bayes' theorem looks at every word independently (_naive_) we can't make any use of context. Filler words/characters are for example pronouns, articles and special characters. We remove those words and characters by filtering them out with the function `rm_filler`."
   ]
  },
  {
   "cell_type": "code",
   "execution_count": 4,
   "metadata": {},
   "outputs": [],
   "source": [
    "# filler words, source = https://www.geeksforgeeks.org/removing-stop-words-nltk-python/\n",
    "en = ['subject:','i', 'me', 'my', 'myself', 'we', 'our', 'ours', 'ourselves', 'you', \"you're\", \"you've\", \"you'll\", \"you'd\", 'your', 'yours', 'yourself', \n",
    "      'yourselves', 'he', 'him', 'his', 'himself', 'she', \"she's\", 'her', 'hers', 'herself', 'it', \"it's\", 'its', 'itself', 'they', 'them', 'their', \n",
    "      'theirs', 'themselves', 'what', 'which', 'who', 'whom', 'this', 'that', \"that'll\", 'these', 'those', 'am', 'is', 'are', 'was', 'were', 'be', \n",
    "      'been', 'being', 'have', 'has', 'had', 'having', 'do', 'does', 'did', 'doing', 'a', 'an', 'the', 'and', 'but', 'if', 'or', 'because', 'as', \n",
    "      'until', 'while', 'of', 'at', 'by', 'for', 'with', 'about', 'against', 'between', 'into', 'through', 'during', 'before', 'after', 'above', \n",
    "      'below', 'to', 'from', 'up', 'down', 'in', 'out', 'on', 'off', 'over', 'under', 'again', 'further', 'then', 'once', 'here', 'there', 'when', \n",
    "      'where', 'why', 'how', 'all', 'any', 'both', 'each', 'few', 'more', 'most', 'other', 'some', 'such', 'no', 'nor', 'not', 'only', 'own', 'same', \n",
    "      'so', 'than', 'too', 'very', 's', 't', 'can', 'will', 'just', 'don', \"don't\", 'should', \"should've\", 'now', 'd', 'll', 'm', 'o', 're', 've', \n",
    "      'y', 'ain', 'aren', \"aren't\", 'couldn', \"couldn't\", 'didn', \"didn't\", 'doesn', \"doesn't\", 'hadn', \"hadn't\", 'hasn', \"hasn't\", 'haven', \"haven't\", \n",
    "      'isn', \"isn't\", 'ma', 'mightn', \"mightn't\", 'mustn', \"mustn't\", 'needn', \"needn't\", 'shan', \"shan't\", 'shouldn', \"shouldn't\", 'wasn', \"wasn't\", \n",
    "      'weren', \"weren't\", 'won', \"won't\", 'wouldn', \"wouldn't\", '~', ':', \"'\", '+', '[', '\\\\', '@', '^', '{', '%', '(', '-', '\"', '*', '|', ',', '&', '<', \n",
    "      '`', '}', '.', '_', '=', ']', '!', '>', ';', '?', '#', '$', ')', '/']"
   ]
  },
  {
   "cell_type": "code",
   "execution_count": 5,
   "metadata": {},
   "outputs": [],
   "source": [
    "def rm_filler(text):\n",
    "    '''\n",
    "    Removes (rm) all the filler words of the english language in a str including special characters\n",
    "    \n",
    "    :param text: string of words \n",
    "    :return text_new: string without filler words\n",
    "    '''\n",
    "    if type(text) != str:\n",
    "        raise TypeError(f\"Function only accepts str. {data.type} given\")\n",
    "    \n",
    "    words = text.lower().split()\n",
    "    words = [word for word in words if word not in en and len(word) >= 5]\n",
    "    \n",
    "    text_new = ' '.join(words)\n",
    "    \n",
    "    return text_new"
   ]
  },
  {
   "cell_type": "code",
   "execution_count": 6,
   "metadata": {},
   "outputs": [
    {
     "data": {
      "text/html": [
       "<div>\n",
       "<style scoped>\n",
       "    .dataframe tbody tr th:only-of-type {\n",
       "        vertical-align: middle;\n",
       "    }\n",
       "\n",
       "    .dataframe tbody tr th {\n",
       "        vertical-align: top;\n",
       "    }\n",
       "\n",
       "    .dataframe thead th {\n",
       "        text-align: right;\n",
       "    }\n",
       "</style>\n",
       "<table border=\"1\" class=\"dataframe\">\n",
       "  <thead>\n",
       "    <tr style=\"text-align: right;\">\n",
       "      <th></th>\n",
       "      <th>text</th>\n",
       "      <th>spam</th>\n",
       "    </tr>\n",
       "  </thead>\n",
       "  <tbody>\n",
       "    <tr>\n",
       "      <th>2778</th>\n",
       "      <td>management vince thanks pedro fernando vince k...</td>\n",
       "      <td>0</td>\n",
       "    </tr>\n",
       "    <tr>\n",
       "      <th>4241</th>\n",
       "      <td>kaminski enron molly would invite interview co...</td>\n",
       "      <td>0</td>\n",
       "    </tr>\n",
       "    <tr>\n",
       "      <th>512</th>\n",
       "      <td>money 21362 homeowner approved fixed offer ext...</td>\n",
       "      <td>1</td>\n",
       "    </tr>\n",
       "    <tr>\n",
       "      <th>5040</th>\n",
       "      <td>organization announcement pleased announce fol...</td>\n",
       "      <td>0</td>\n",
       "    </tr>\n",
       "    <tr>\n",
       "      <th>2254</th>\n",
       "      <td>paper request informs meeting antonio regret i...</td>\n",
       "      <td>0</td>\n",
       "    </tr>\n",
       "  </tbody>\n",
       "</table>\n",
       "</div>"
      ],
      "text/plain": [
       "                                                   text  spam\n",
       "2778  management vince thanks pedro fernando vince k...     0\n",
       "4241  kaminski enron molly would invite interview co...     0\n",
       "512   money 21362 homeowner approved fixed offer ext...     1\n",
       "5040  organization announcement pleased announce fol...     0\n",
       "2254  paper request informs meeting antonio regret i...     0"
      ]
     },
     "execution_count": 6,
     "metadata": {},
     "output_type": "execute_result"
    }
   ],
   "source": [
    "data['text'] = data.text.apply(rm_filler)\n",
    "data.sample(5)"
   ]
  },
  {
   "cell_type": "markdown",
   "metadata": {},
   "source": [
    "The text in our dataset has now been cleared of filler words and special characters. Additionally we now use only lower case characters (`.lower()`) and got rid of the leading \"Subject:\" in every email. To simplify the process we only take words with more or equal to 5 letters. This seems to yield better results, which playing around with the notebook has proven."
   ]
  },
  {
   "cell_type": "markdown",
   "metadata": {},
   "source": [
    "##  Train/Test split"
   ]
  },
  {
   "cell_type": "markdown",
   "metadata": {},
   "source": [
    "The dataset contains in total 5728 Emails with the label $0$ for ham or $1$ for spam. Over a quarter of the E-Mails are spam (1368 out of 5728). The next step is to split the dataset into a test and train set. The test set size is set for 0.3 or 30% to have some consistency we set the random_state of the `train_test_split`-function to 42."
   ]
  },
  {
   "cell_type": "code",
   "execution_count": 7,
   "metadata": {},
   "outputs": [
    {
     "name": "stdout",
     "output_type": "stream",
     "text": [
      "Shape of Dataset: (5728, 2)\n",
      "Number of ham (0) and spam (1) emails:\n"
     ]
    },
    {
     "data": {
      "text/plain": [
       "0    4360\n",
       "1    1368\n",
       "Name: spam, dtype: int64"
      ]
     },
     "execution_count": 7,
     "metadata": {},
     "output_type": "execute_result"
    }
   ],
   "source": [
    "print(f'Shape of Dataset: {data.shape}')\n",
    "print('Number of ham (0) and spam (1) emails:')\n",
    "data['spam'].value_counts()"
   ]
  },
  {
   "cell_type": "code",
   "execution_count": 8,
   "metadata": {},
   "outputs": [
    {
     "name": "stdout",
     "output_type": "stream",
     "text": [
      "Train shape: (4009, 2)\n",
      "Test shape: (1719, 2)\n"
     ]
    }
   ],
   "source": [
    "# split data into test and training set\n",
    "train, test = train_test_split(data, test_size=0.3, random_state=42)\n",
    "print(f'Train shape: {train.shape}')\n",
    "print(f'Test shape: {test.shape}')"
   ]
  },
  {
   "cell_type": "code",
   "execution_count": 9,
   "metadata": {},
   "outputs": [
    {
     "name": "stdout",
     "output_type": "stream",
     "text": [
      "Number of ham (0) and spam (1) emails in train set\n",
      "0    3082\n",
      "1     927\n",
      "Name: spam, dtype: int64\n"
     ]
    }
   ],
   "source": [
    "train = train.reset_index()\n",
    "print(f'Number of ham (0) and spam (1) emails in train set')\n",
    "print(train.spam.value_counts())"
   ]
  },
  {
   "cell_type": "markdown",
   "metadata": {},
   "source": [
    "The dataset is now split into a train (4009 e-mails) and a test set (1719 e-mails)."
   ]
  },
  {
   "cell_type": "markdown",
   "metadata": {},
   "source": [
    "----\n",
    "## Probability of an email beeing spam or ham (prior belief)\n",
    "Now that we have the set split into a train and test set we can calculate the Probability of an E-Mail being spam or ham. This is quite simple. We simply take the number of spam/ham emails $\\text{n_spam}$ or $\\text{n_ham}$ and divide them by the total number of emails $\\text{n_emails}$. Another approach is to use an even probability for spam or ham (0.5) this eliminates the a priori assumption that an e-mail is more likely to be ham. $\\text{n_spam}$ is called a _prior belief_.\n",
    "\n",
    "$$\n",
    "P(\\text{s}) = \\frac{\\text{n_spam}}{\\text{n_emails}} = 0.24\n",
    "$$\n",
    "\n",
    "$$\n",
    "P(\\text{h}) = \\frac{\\text{n_ham}}{\\text{n_emails}} = 0.76\n",
    "$$"
   ]
  },
  {
   "cell_type": "code",
   "execution_count": 10,
   "metadata": {},
   "outputs": [
    {
     "name": "stdout",
     "output_type": "stream",
     "text": [
      "Probability of an email being spam: 0.23\n",
      "Probability of an email being ham: 0.77\n",
      "Combined probability: 1.0\n"
     ]
    }
   ],
   "source": [
    "p_spam = len(train.loc[train['spam']==1])/len(train) # length of dataset with spam == 1 divided by length of the whole dataset\n",
    "p_ham = len(train.loc[train['spam']==0])/len(train) # length of dataset with spam == 0 divided by length of the whole dataset\n",
    "print(f'Probability of an email being spam: {np.round(p_spam, 2)}')\n",
    "print(f'Probability of an email being ham: {np.round(p_ham, 2)}')\n",
    "\n",
    "# and to be save, a sanity check: p_spam + p_ham should equal 1\n",
    "print(f'Combined probability: {p_spam + p_ham}')"
   ]
  },
  {
   "cell_type": "markdown",
   "metadata": {},
   "source": [
    "This of course also gives us the probability of an email _not_ being spam or ham. This is calculated by subtracting the probability from 1, $P(\\lnot s) = 1 - P(s)$"
   ]
  },
  {
   "cell_type": "markdown",
   "metadata": {},
   "source": [
    "----\n",
    "\n",
    "## Likelihood of a word to be in a spam email or in a ham email (likelihood)\n",
    "The probability that a word is found in a spam email ($P(w \\vert s)$) is defined by the number of occurrences of the word in spam emails divided by the total number of spam emails. The same goes for the probability that a word is in a ham email ($P(w \\vert \\lnot s)$). This approach does not take into account if a word is in an email multiple times or in what relation the words are to each other. This means that context does not affect anything. Sentences like \"FREE! FREE! stuff\", which indicate spam, are not interpreted as such but instead get viewed as a unique word count with the words \"free\" and \"stuff\". In our case $P(w \\vert s)$ is the likelihood of a word appearing in a spam message. \n",
    "\n",
    "$$\n",
    "P(w \\vert s) = \\frac{\\text{number of spam emails containing} \\: w}{\\text{total number of spam emails}}\n",
    "$$\n",
    "\n",
    "$$\n",
    "P(w \\vert \\lnot s) = \\frac{\\text{number of ham emails containing} \\: w}{\\text{total number of ham emails}}\n",
    "$$"
   ]
  },
  {
   "cell_type": "markdown",
   "metadata": {},
   "source": [
    "To do this effectively we can create a dictionary containing all the words (except filler words) of the email in the train set and precalculate the probability of a word being in a spam mail or ham mail."
   ]
  },
  {
   "cell_type": "code",
   "execution_count": 11,
   "metadata": {},
   "outputs": [],
   "source": [
    "def p_word(df, mode=0):\n",
    "    \"\"\"\n",
    "    Creates a dictionary for every word in spam/ham emails as a key with the probability of it being in a spam/ham mail as the value.\n",
    "    :param df: dataframe with two columns: text and label\n",
    "    :param mode: defines if the return has words in spam or ham mails or both (accepts '0'(ham) and '1'(spam) or '2'(spam and ham))\n",
    "    :return dictionary with key='word' and value='probability'\n",
    "    \"\"\"\n",
    "    if mode == 0 or mode == 1:\n",
    "        df = df[df['spam'] == mode] # get spam or ham emails\n",
    "    \n",
    "    \n",
    "    # get list of unique words\n",
    "    unique = list(df['text'].str.split(' ', expand=True).stack().unique())\n",
    "        \n",
    "    # convert list to dict with initial value\n",
    "    dict_unique = {i : 0 for i in unique}\n",
    "    \n",
    "    t_mail = len(df)\n",
    "    \n",
    "    for row in df.iterrows():\n",
    "        text = row[1][1]\n",
    "        # get list of words \n",
    "        words = list(set(text.split())) # convert list to set to get unique values\n",
    "        # increment value in dict by one for word in words\n",
    "        for word in words:\n",
    "            dict_unique[word] += 1\n",
    "            \n",
    "    # calculate probability of email being spam given a word:\n",
    "    t_mail = len(df) # number of emails in df\n",
    "    dict_prob = {k: (v / t_mail) for k, v in dict_unique.items()}\n",
    "\n",
    "    return dict_prob\n",
    "\n",
    "spam = p_word(train, mode=1)\n",
    "ham = p_word(train, mode=0)\n",
    "spam_ham = p_word(train, mode=2)"
   ]
  },
  {
   "cell_type": "code",
   "execution_count": 12,
   "metadata": {},
   "outputs": [
    {
     "data": {
      "text/plain": [
       "{'locations': 0.006472491909385114,\n",
       " 'orlando': 0.002157497303128371,\n",
       " 'vegas': 0.005393743257820928,\n",
       " 'congratulations': 0.014023732470334413,\n",
       " 'receiving': 0.0744336569579288}"
      ]
     },
     "execution_count": 12,
     "metadata": {},
     "output_type": "execute_result"
    }
   ],
   "source": [
    "dict(itertools.islice(spam.items(), 5))"
   ]
  },
  {
   "cell_type": "markdown",
   "metadata": {},
   "source": [
    "## Calculate the \"spam\" probability for every e-mail (posterior)\n",
    "For a better explanation of what is going on in `prob()` we need to see our equations again:\n",
    "$$\n",
    "P(s \\vert w) = \\frac{P(w \\vert s)P(s)}{P(w \\vert s\\cup h)}\n",
    "$$\n",
    "\n",
    "$$\n",
    "P = \\frac{p_1 p_2 ... p_n}{p_1 p_2 ... p_n + (1- p_1)(1-p_2)...(1-p_n)}\n",
    "$$\n",
    "\n",
    "For an efficient calculation we can merge this two equations into one:\n",
    "$$\n",
    "P = \\frac{P(s) \\prod_{i=1}^n P(w_i \\vert s)}{\\prod_{i=1}^n P(w_i \\vert s \\cup h)}\n",
    "$$\n",
    "The probability that a word is found in a spam email ($P(w \\vert s)$) is defined by the number of occurrences of the word in spam emails divided by the total number of spam emails. The same goes for the probability that a word is in a ham email ($P(w \\vert \\lnot s)$). This approach does not take into account if a word is in an email multiple times or in what relation the words are to each other. This means that context does not affect anything. Sentences like \"FREE! FREE! stuff\", which indicate spam, are not interpreted as such but instead get viewed as a unique word count with the words \"free\" and \"stuff\". In our case $P(w \\vert s)$ is the likelihood of a word appearing in a spam message. "
   ]
  },
  {
   "cell_type": "code",
   "execution_count": 13,
   "metadata": {},
   "outputs": [
    {
     "data": {
      "text/html": [
       "<div>\n",
       "<style scoped>\n",
       "    .dataframe tbody tr th:only-of-type {\n",
       "        vertical-align: middle;\n",
       "    }\n",
       "\n",
       "    .dataframe tbody tr th {\n",
       "        vertical-align: top;\n",
       "    }\n",
       "\n",
       "    .dataframe thead th {\n",
       "        text-align: right;\n",
       "    }\n",
       "</style>\n",
       "<table border=\"1\" class=\"dataframe\">\n",
       "  <thead>\n",
       "    <tr style=\"text-align: right;\">\n",
       "      <th></th>\n",
       "      <th>index</th>\n",
       "      <th>text</th>\n",
       "      <th>spam</th>\n",
       "      <th>prob</th>\n",
       "    </tr>\n",
       "  </thead>\n",
       "  <tbody>\n",
       "    <tr>\n",
       "      <th>3027</th>\n",
       "      <td>2645</td>\n",
       "      <td>spread options short follow options attached c...</td>\n",
       "      <td>0</td>\n",
       "      <td>2.243515e-08</td>\n",
       "    </tr>\n",
       "    <tr>\n",
       "      <th>1636</th>\n",
       "      <td>2260</td>\n",
       "      <td>departure grant masson research group sense re...</td>\n",
       "      <td>0</td>\n",
       "      <td>1.145448e-10</td>\n",
       "    </tr>\n",
       "    <tr>\n",
       "      <th>85</th>\n",
       "      <td>2954</td>\n",
       "      <td>storage meeting believe might additions group ...</td>\n",
       "      <td>0</td>\n",
       "      <td>1.027883e-24</td>\n",
       "    </tr>\n",
       "    <tr>\n",
       "      <th>2706</th>\n",
       "      <td>545</td>\n",
       "      <td>offrr liberalize northward dlcatlons centr com...</td>\n",
       "      <td>1</td>\n",
       "      <td>1.000000e+00</td>\n",
       "    </tr>\n",
       "    <tr>\n",
       "      <th>1744</th>\n",
       "      <td>3830</td>\n",
       "      <td>exotica advice sharad process finding differen...</td>\n",
       "      <td>0</td>\n",
       "      <td>4.409711e-11</td>\n",
       "    </tr>\n",
       "  </tbody>\n",
       "</table>\n",
       "</div>"
      ],
      "text/plain": [
       "      index                                               text  spam  \\\n",
       "3027   2645  spread options short follow options attached c...     0   \n",
       "1636   2260  departure grant masson research group sense re...     0   \n",
       "85     2954  storage meeting believe might additions group ...     0   \n",
       "2706    545  offrr liberalize northward dlcatlons centr com...     1   \n",
       "1744   3830  exotica advice sharad process finding differen...     0   \n",
       "\n",
       "              prob  \n",
       "3027  2.243515e-08  \n",
       "1636  1.145448e-10  \n",
       "85    1.027883e-24  \n",
       "2706  1.000000e+00  \n",
       "1744  4.409711e-11  "
      ]
     },
     "execution_count": 13,
     "metadata": {},
     "output_type": "execute_result"
    }
   ],
   "source": [
    "def prob(text):\n",
    "    \"\"\"\n",
    "    Calculate the total probability of an incomming e-mail being spam\n",
    "    \"\"\"\n",
    "    words = list(set(text.split()))\n",
    "    \n",
    "    numerator = 1\n",
    "    denominator2 = 1\n",
    "    for word in words:\n",
    "        if word in spam.keys():\n",
    "            numerator *= spam[word]\n",
    "            denominator2 *= spam_ham[word]\n",
    "                \n",
    "    numerator *= p_spam\n",
    "    denominator2 *= p_ham\n",
    "    if numerator == 0:\n",
    "        return 0\n",
    "    else:\n",
    "        return numerator/(numerator+denominator2)\n",
    "\n",
    "train['prob'] = train['text'].apply(prob)\n",
    "test['prob'] = test['text'].apply(prob)\n",
    "\n",
    "train.sample(5)"
   ]
  },
  {
   "cell_type": "markdown",
   "metadata": {},
   "source": [
    "We can visualize our result in the `prob` column by plotting a histogram. It seems that the Bayesian approach tends to push values to the extremes of $0$ and $1$. This makes sense, because our model knows all words of the training data. "
   ]
  },
  {
   "cell_type": "code",
   "execution_count": 28,
   "metadata": {},
   "outputs": [
    {
     "data": {
      "image/png": "[encoded data removed]",
      "text/plain": [
       "<Figure size 432x288 with 1 Axes>"
      ]
     },
     "metadata": {
      "needs_background": "light"
     },
     "output_type": "display_data"
    }
   ],
   "source": [
    "fig = sns.distplot(train.prob, kde=False)\n",
    "fig.set(title= 'Distribution of column \"prob\"', xlabel='Spamliness of e-mail', ylabel='Sum')\n",
    "plt.show()"
   ]
  },
  {
   "cell_type": "markdown",
   "metadata": {},
   "source": [
    "## Classification with threshold and parameter search\n",
    "Now that we have our function that calculates the probabilities for our e-mails we could run this on our test set and call it a day. But that is not the case. We need to decide at what point we flag an e-mail as spam. We are going to test a few different thresholds in our `classification`-function. I set our target to minimize the false positives. We do not want that legitimate e-mails land in the junk drawer. "
   ]
  },
  {
   "cell_type": "code",
   "execution_count": 15,
   "metadata": {},
   "outputs": [],
   "source": [
    "def classification(val, threshold):\n",
    "    \"\"\"\n",
    "    Classifies data into binary value, 0 for ham and 1 for spam\n",
    "    :param val: Value which should be classified\n",
    "    :param theshold: Threshold for binary classification\n",
    "    :return val: binary value\n",
    "    \"\"\"\n",
    "    if val >= threshold:\n",
    "        val = 1 \n",
    "    else:\n",
    "        val = 0\n",
    "    return val"
   ]
  },
  {
   "cell_type": "code",
   "execution_count": 47,
   "metadata": {},
   "outputs": [
    {
     "name": "stdout",
     "output_type": "stream",
     "text": [
      "Parameter with least false positives: 0.88\n",
      "Parameter with best accuracy: 0.39\n"
     ]
    }
   ],
   "source": [
    "# apply classification on dataset\n",
    "param = {}\n",
    "spam = sum(train.loc[train['spam']==1, 'spam'])\n",
    "best_fp, best_acc, best_fn_param, best_acc_param = None, 0, 0.01, 0.01\n",
    "\n",
    "for i in np.arange(0.01,1,0.01):\n",
    "    train.loc[:,'class'] = train.prob.apply(classification, threshold = i)\n",
    "    tp = sum(train.loc[train['spam']==1,'class']==1)     # true positive\n",
    "    tn = sum(train.loc[train['spam']==0,'class']==0)     # true negative\n",
    "    fp = sum(train.loc[train['spam']==0,'class']==1)     # false positive\n",
    "    fn = sum(train.loc[train['spam']==1,'class']==0)     # false negative\n",
    "    p = len(train.loc[train['spam']==1,'spam'])          # actual postive\n",
    "    n = len(train.loc[train['spam']==0,'spam'])          # actual negative\n",
    "   \n",
    "    # sensitivity (true positive / real positive)\n",
    "    sensitivity = tp/(tp+fn) # true positive rate\n",
    "    \n",
    "    # specificity (true negative / real negative)\n",
    "    specificity = tn/(tn+fn) # true negative rate \n",
    "    \n",
    "    # accuracy ((true positive + true negative)/(real positive + real negative))\n",
    "    accuracy = (tp+tn)/(p+n)    \n",
    "    \n",
    "    param[i] = (sensitivity,specificity,accuracy)\n",
    "    \n",
    "    if best_fp is None:\n",
    "        best_fp = fp\n",
    "    elif best_fp > fp:\n",
    "        best_fp = fp\n",
    "        best_fn_param = i\n",
    "    if best_acc < accuracy:\n",
    "        best_acc = accuracy\n",
    "        best_acc_param = i\n",
    "    \n",
    "print(f'Parameter with least false positives: {best_param}')\n",
    "print(f'Parameter with best accuracy: {best_acc_param}')"
   ]
  },
  {
   "cell_type": "code",
   "execution_count": 33,
   "metadata": {},
   "outputs": [
    {
     "data": {
      "image/png": "[encoded data removed]",
      "text/plain": [
       "<Figure size 432x288 with 1 Axes>"
      ]
     },
     "metadata": {
      "needs_background": "light"
     },
     "output_type": "display_data"
    }
   ],
   "source": [
    "for i in range(3):\n",
    "    plt\n",
    "    fig = sns.lineplot(list(param.keys()),[a_tuple[i] for a_tuple in list(param.values())])\n",
    "\n",
    "# add legend to plot\n",
    "labels = ['Sensitivity', 'Specificity', 'Accuracy']\n",
    "fig.legend(labels)\n",
    "\n",
    "\n",
    "# add descriptions to plot\n",
    "fig.set(title= 'Multiple Metrics', xlabel='Decision threshold', ylabel='Value [%]')\n",
    "\n",
    "plt.show()"
   ]
  },
  {
   "cell_type": "markdown",
   "metadata": {},
   "source": [
    "The plot above visualizes a few measurements like accuracy, specificity and sensitivity on our trainset. But these aren't the parameters I'm interested in. What a spam filter should not do is flag harmless e-mails or in other words should have a very low number of false positives."
   ]
  },
  {
   "cell_type": "markdown",
   "metadata": {},
   "source": [
    "----\n",
    "# Results"
   ]
  },
  {
   "cell_type": "markdown",
   "metadata": {},
   "source": [
    "Now that we have found a parameter that fits our needs, we can test our classifier on the test set. Below we apply our best threshold that we got to the train and the test set and plot a corresponding confusion matrix."
   ]
  },
  {
   "cell_type": "code",
   "execution_count": 44,
   "metadata": {},
   "outputs": [],
   "source": [
    "train['class'] = train.prob.apply(classification, threshold = best_fn_param)\n",
    "test['class'] = test.prob.apply(classification, threshold = best_fn_param)"
   ]
  },
  {
   "cell_type": "code",
   "execution_count": 42,
   "metadata": {},
   "outputs": [],
   "source": [
    "def plot_confusion_matrix(data,name_dataset):\n",
    "    \"\"\"\n",
    "    Plots a confustion matrix using scipys confusion_matrix function\n",
    "    :param data: datset wich needs columns 'spam' and 'class' with numeric values\n",
    "    :param name_dataset: name of the dataset to set a title\n",
    "    \"\"\"\n",
    "    cm = confusion_matrix(data['spam'], data['class'])\n",
    "\n",
    "    ax= plt.subplot()\n",
    "    sns.heatmap(cm, annot = True, fmt='g')\n",
    "\n",
    "    # labels, title and ticks\n",
    "    ax.set_xlabel('Predicted labels')\n",
    "    ax.set_ylabel('True labels')\n",
    "    ax.set_title(f'Confusion Matrix, {name_dataset}') \n",
    "    ax.xaxis.set_ticklabels(['0', '1'])\n",
    "    ax.yaxis.set_ticklabels(['0', '1'])\n",
    "    plt.show()"
   ]
  },
  {
   "cell_type": "code",
   "execution_count": 45,
   "metadata": {},
   "outputs": [
    {
     "data": {
      "image/png": "[encoded data removed]",
      "text/plain": [
       "<Figure size 432x288 with 2 Axes>"
      ]
     },
     "metadata": {
      "needs_background": "light"
     },
     "output_type": "display_data"
    }
   ],
   "source": [
    "plot_confusion_matrix(train, 'Trainset')"
   ]
  },
  {
   "cell_type": "code",
   "execution_count": 46,
   "metadata": {},
   "outputs": [
    {
     "data": {
      "image/png": "[encoded data removed]",
      "text/plain": [
       "<Figure size 432x288 with 2 Axes>"
      ]
     },
     "metadata": {
      "needs_background": "light"
     },
     "output_type": "display_data"
    }
   ],
   "source": [
    "plot_confusion_matrix(test, 'Testset')"
   ]
  },
  {
   "cell_type": "markdown",
   "metadata": {},
   "source": [
    "As we can see in the confusion matrix above we get some good results. Only two e-mails in our test set have been falsely flagged as spam (false positive). A bit of an inconvenience are the 90 spam e-mails that haven't been flagged as spam and were classified as harmless e-mails (false negative). Sorry that you had so see emails about unwanted viagra offers or free money a Nigerian prince wants to send you for a small fee. \n",
    "\n",
    "The accuracy of this classifier is over 94% on the test set. "
   ]
  },
  {
   "cell_type": "markdown",
   "metadata": {},
   "source": [
    "----\n",
    "# Discussion\n",
    "What are the consequences of deciding to treat a new observation as class 1 vs. 0? If we falsely classify a legitimate e-mail as spam the customer could lose trust in the spam filter or miss crucial information that has been sent to him. The false-positive number should be as low as possible to prohibit that. A high accuracy also ensures that most emails get classified correctly which means that false negatives fall as well. The above-created spam classifier achieves this reasonably well for a prototype. There is still much room for improvement. The false negatives are numerous which stick out like a sore thumb. A way to tune that would be to focus on words that appear regularly because they are a better indicator than words that appear only a few times, which carry less meaning. \n",
    "\n",
    "All in all the classifier is a success for a simple exercise. We achieved an accuracy of over 94%."
   ]
  },
  {
   "cell_type": "markdown",
   "metadata": {},
   "source": [
    "----\n",
    "# Sources\n",
    "- „Naive Bayes Spam Filtering“. 2020. Wikipedia. https://en.wikipedia.org/w/index.php?title=Naive_Bayes_spam_filtering&oldid=948460671 (April 18, 2020).\n",
    "- „Bayes’ Theorem“. 2020. Wikipedia. https://en.wikipedia.org/w/index.php?title=Bayes%27_theorem&oldid=951581312 (April 18, 2020).\n",
    "- Bayes Theorem. https://www.youtube.com/watch?v=HZGCoVF3YvM (April 18, 2020).\n",
    "- “Removing Stop Words with NLTK in Python.” 2017. GeeksforGeeks. https://www.geeksforgeeks.org/removing-stop-words-nltk-python/ (April 18, 2020).\n",
    "\n",
    "\n"
   ]
  },
  {
   "cell_type": "markdown",
   "metadata": {},
   "source": [
    "----\n",
    "# Glossary\n",
    "**Accuracy** true positive + true negative divided by number of events, a ratio of correct classifications\n",
    "\n",
    "**A priori** presupposed by experience\n",
    "\n",
    "**Ham** the opposite of spam, an e-mail that the recipient wants to receive\n",
    "\n",
    "**Likelihood** probability of getting B if given A\n",
    "\n",
    "**Prior belief** expresses belief before taking evidenve into account\n",
    "\n",
    "**Sensitivity** measures the proportion of actual postitives that are correctly identified as such\n",
    "\n",
    "**Spam** an unsolicited or fraudulent e-mail\n",
    "\n",
    "**Specificity** measures the proportion of actual negatives that are correctly identified as such\n"
   ]
  }
 ],
 "metadata": {
  "kernelspec": {
   "display_name": "Python 3",
   "language": "python",
   "name": "python3"
  },
  "language_info": {
   "codemirror_mode": {
    "name": "ipython",
    "version": 3
   },
   "file_extension": ".py",
   "mimetype": "text/x-python",
   "name": "python",
   "nbconvert_exporter": "python",
   "pygments_lexer": "ipython3",
   "version": "3.7.3"
  },
  "toc-autonumbering": true
 },
 "nbformat": 4,
 "nbformat_minor": 4
}
